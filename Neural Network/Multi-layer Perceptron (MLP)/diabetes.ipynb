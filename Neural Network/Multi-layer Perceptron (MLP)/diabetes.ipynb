{
 "cells": [
  {
   "cell_type": "code",
   "execution_count": 2,
   "metadata": {},
   "outputs": [],
   "source": [
    "# Import required libraries\n",
    "import sklearn\n",
    "import numpy as np\n",
    "import pandas as pd\n",
    "import matplotlib.pyplot as plt\n",
    "from sklearn.metrics import accuracy_score\n",
    "from sklearn.metrics import confusion_matrix\n",
    "from sklearn.neural_network import MLPClassifier \n",
    "from sklearn.metrics import classification_report\n",
    "from sklearn.metrics import plot_confusion_matrix\n",
    "from sklearn.model_selection import train_test_split"
   ]
  },
  {
   "cell_type": "code",
   "execution_count": 3,
   "metadata": {},
   "outputs": [
    {
     "data": {
      "text/plain": [
       "'\\nGithub: https://github.com/sujitmandal\\nThis programe is create by Sujit Mandal\\n\\nLinkedIn : https://www.linkedin.com/in/sujit-mandal-91215013a/\\n\\nFacebook : https://www.facebook.com/sujit.mandal.33671748\\n\\nTwitter : https://twitter.com/mandalsujit37\\n'"
      ]
     },
     "execution_count": 3,
     "metadata": {},
     "output_type": "execute_result"
    }
   ],
   "source": [
    "#Github: https://github.com/sujitmandal\n",
    "\n",
    "#This programe is create by Sujit Mandal\n",
    "\n",
    "\"\"\"\n",
    "Github: https://github.com/sujitmandal\n",
    "This programe is create by Sujit Mandal\n",
    "\n",
    "LinkedIn : https://www.linkedin.com/in/sujit-mandal-91215013a/\n",
    "\n",
    "Facebook : https://www.facebook.com/sujit.mandal.33671748\n",
    "\n",
    "Twitter : https://twitter.com/mandalsujit37\n",
    "\"\"\""
   ]
  },
  {
   "cell_type": "code",
   "execution_count": 4,
   "metadata": {},
   "outputs": [
    {
     "name": "stdout",
     "output_type": "stream",
     "text": [
      "   Pregnancies  Glucose  BloodPressure  SkinThickness  Insulin   BMI  \\\n",
      "0            6      148             72             35        0  33.6   \n",
      "1            1       85             66             29        0  26.6   \n",
      "2            8      183             64              0        0  23.3   \n",
      "3            1       89             66             23       94  28.1   \n",
      "4            0      137             40             35      168  43.1   \n",
      "\n",
      "   DiabetesPedigreeFunction  Age  Outcome  \n",
      "0                     0.627   50        1  \n",
      "1                     0.351   31        0  \n",
      "2                     0.672   32        1  \n",
      "3                     0.167   21        0  \n",
      "4                     2.288   33        1  \n",
      "\n",
      "\n",
      "     Pregnancies  Glucose  BloodPressure  SkinThickness  Insulin   BMI  \\\n",
      "763           10      101             76             48      180  32.9   \n",
      "764            2      122             70             27        0  36.8   \n",
      "765            5      121             72             23      112  26.2   \n",
      "766            1      126             60              0        0  30.1   \n",
      "767            1       93             70             31        0  30.4   \n",
      "\n",
      "     DiabetesPedigreeFunction  Age  Outcome  \n",
      "763                     0.171   63        0  \n",
      "764                     0.340   27        0  \n",
      "765                     0.245   30        0  \n",
      "766                     0.349   47        1  \n",
      "767                     0.315   23        0  \n",
      "\n",
      "\n",
      "(768, 9)\n"
     ]
    }
   ],
   "source": [
    "data = pd.read_csv('diabetes.csv')\n",
    "print(data.head(5))\n",
    "print('\\n')\n",
    "print(data.tail(5))\n",
    "print('\\n')\n",
    "print(data.shape)"
   ]
  },
  {
   "cell_type": "code",
   "execution_count": 5,
   "metadata": {},
   "outputs": [],
   "source": [
    "class_names = ['Healthy', 'Sick']"
   ]
  },
  {
   "cell_type": "code",
   "execution_count": 6,
   "metadata": {},
   "outputs": [
    {
     "name": "stdout",
     "output_type": "stream",
     "text": [
      "                          count        mean         std     min       25%  \\\n",
      "Pregnancies               768.0    3.845052    3.369578   0.000   1.00000   \n",
      "Glucose                   768.0  120.894531   31.972618   0.000  99.00000   \n",
      "BloodPressure             768.0   69.105469   19.355807   0.000  62.00000   \n",
      "SkinThickness             768.0   20.536458   15.952218   0.000   0.00000   \n",
      "Insulin                   768.0   79.799479  115.244002   0.000   0.00000   \n",
      "BMI                       768.0   31.992578    7.884160   0.000  27.30000   \n",
      "DiabetesPedigreeFunction  768.0    0.471876    0.331329   0.078   0.24375   \n",
      "Age                       768.0   33.240885   11.760232  21.000  24.00000   \n",
      "Outcome                   768.0    0.348958    0.476951   0.000   0.00000   \n",
      "\n",
      "                               50%        75%     max  \n",
      "Pregnancies                 3.0000    6.00000   17.00  \n",
      "Glucose                   117.0000  140.25000  199.00  \n",
      "BloodPressure              72.0000   80.00000  122.00  \n",
      "SkinThickness              23.0000   32.00000   99.00  \n",
      "Insulin                    30.5000  127.25000  846.00  \n",
      "BMI                        32.0000   36.60000   67.10  \n",
      "DiabetesPedigreeFunction    0.3725    0.62625    2.42  \n",
      "Age                        29.0000   41.00000   81.00  \n",
      "Outcome                     0.0000    1.00000    1.00  \n"
     ]
    }
   ],
   "source": [
    "transpose = data.describe().transpose()\n",
    "print(transpose)"
   ]
  },
  {
   "cell_type": "code",
   "execution_count": 7,
   "metadata": {},
   "outputs": [
    {
     "name": "stdout",
     "output_type": "stream",
     "text": [
      "                          count      mean       std       min       25%  \\\n",
      "Pregnancies               768.0  0.226180  0.198210  0.000000  0.058824   \n",
      "Glucose                   768.0  0.607510  0.160666  0.000000  0.497487   \n",
      "BloodPressure             768.0  0.566438  0.158654  0.000000  0.508197   \n",
      "SkinThickness             768.0  0.207439  0.161134  0.000000  0.000000   \n",
      "Insulin                   768.0  0.094326  0.136222  0.000000  0.000000   \n",
      "BMI                       768.0  0.476790  0.117499  0.000000  0.406855   \n",
      "DiabetesPedigreeFunction  768.0  0.194990  0.136913  0.032231  0.100723   \n",
      "Age                       768.0  0.410381  0.145188  0.259259  0.296296   \n",
      "Outcome                   768.0  0.348958  0.476951  0.000000  0.000000   \n",
      "\n",
      "                               50%       75%  max  \n",
      "Pregnancies               0.176471  0.352941  1.0  \n",
      "Glucose                   0.587940  0.704774  1.0  \n",
      "BloodPressure             0.590164  0.655738  1.0  \n",
      "SkinThickness             0.232323  0.323232  1.0  \n",
      "Insulin                   0.036052  0.150414  1.0  \n",
      "BMI                       0.476900  0.545455  1.0  \n",
      "DiabetesPedigreeFunction  0.153926  0.258781  1.0  \n",
      "Age                       0.358025  0.506173  1.0  \n",
      "Outcome                   0.000000  1.000000  1.0  \n"
     ]
    }
   ],
   "source": [
    "target_column = ['Outcome']\n",
    "predictors = list(set(list(data.columns)) - set(target_column)) \n",
    "data[predictors] = data[predictors] / data[predictors].max()\n",
    "predictors_transpose = data.describe().transpose()\n",
    "\n",
    "print(predictors_transpose)"
   ]
  },
  {
   "cell_type": "code",
   "execution_count": 8,
   "metadata": {},
   "outputs": [
    {
     "name": "stdout",
     "output_type": "stream",
     "text": [
      "\n",
      "\n",
      "(537, 8)\n",
      "(231, 8)\n"
     ]
    }
   ],
   "source": [
    "#Creating the Training and Test Datasets\n",
    "\n",
    "x = data[predictors].values\n",
    "y = data[target_column].values\n",
    "\n",
    "x_train, x_test, y_train, y_test = train_test_split(x, y, test_size=0.30, random_state=40)\n",
    "\n",
    "print('\\n')\n",
    "print(x_train.shape)\n",
    "print(x_test.shape)"
   ]
  },
  {
   "cell_type": "code",
   "execution_count": 9,
   "metadata": {},
   "outputs": [
    {
     "name": "stderr",
     "output_type": "stream",
     "text": [
      "/home/sujit/anaconda3/lib/python3.7/site-packages/sklearn/neural_network/_multilayer_perceptron.py:934: DataConversionWarning: A column-vector y was passed when a 1d array was expected. Please change the shape of y to (n_samples, ), for example using ravel().\n",
      "  y = column_or_1d(y, warn=True)\n",
      "/home/sujit/anaconda3/lib/python3.7/site-packages/sklearn/neural_network/_multilayer_perceptron.py:571: ConvergenceWarning: Stochastic Optimizer: Maximum iterations (500) reached and the optimization hasn't converged yet.\n",
      "  % self.max_iter, ConvergenceWarning)\n"
     ]
    }
   ],
   "source": [
    "#Building, Predicting, and Evaluating the Neural Network Model\n",
    "\n",
    "mlp = MLPClassifier(hidden_layer_sizes=(10,10,10), activation = 'relu', solver ='adam', max_iter = 500)\n",
    "mlp.fit(x_train, y_train)\n",
    "\n",
    "predict_train = mlp.predict(x_train)\n",
    "predict_test = mlp.predict(x_test)"
   ]
  },
  {
   "cell_type": "code",
   "execution_count": 10,
   "metadata": {},
   "outputs": [
    {
     "name": "stdout",
     "output_type": "stream",
     "text": [
      "Accuracy : 74.45887445887446\n"
     ]
    }
   ],
   "source": [
    "predicted = mlp.predict(x_test)\n",
    "accuracy = accuracy_score(y_test, predicted)\n",
    "\n",
    "accuracyInpercentage = (accuracy * 100)\n",
    "print('Accuracy :', accuracyInpercentage)"
   ]
  },
  {
   "cell_type": "code",
   "execution_count": 11,
   "metadata": {},
   "outputs": [
    {
     "name": "stdout",
     "output_type": "stream",
     "text": [
      "\n",
      "\n",
      "Confusion matrix, without normalization\n",
      "[[122  20]\n",
      " [ 39  50]]\n",
      "\n",
      "\n",
      "Normalized confusion matrix\n",
      "[[0.85915493 0.14084507]\n",
      " [0.43820225 0.56179775]]\n"
     ]
    },
    {
     "data": {
      "image/png": "[encoded data removed]",
      "text/plain": [
       "<Figure size 432x288 with 2 Axes>"
      ]
     },
     "metadata": {
      "needs_background": "light"
     },
     "output_type": "display_data"
    },
    {
     "data": {
      "image/png": "[encoded data removed]",
      "text/plain": [
       "<Figure size 432x288 with 2 Axes>"
      ]
     },
     "metadata": {
      "needs_background": "light"
     },
     "output_type": "display_data"
    }
   ],
   "source": [
    "# Plot non-normalized confusion matrix\n",
    "titles_options = [(\"Confusion matrix, without normalization\", None),\n",
    "                  (\"Normalized confusion matrix\", 'true')]\n",
    "for title, normalize in titles_options:\n",
    "    disp = plot_confusion_matrix(mlp, x_test, y_test,\n",
    "                                 display_labels=class_names,\n",
    "                                 cmap=plt.cm.Blues,\n",
    "                                 normalize=normalize)\n",
    "    disp.ax_.set_title(title)\n",
    "    print('\\n')\n",
    "    print(title)\n",
    "    print(disp.confusion_matrix)\n",
    "\n",
    "plt.show()"
   ]
  },
  {
   "cell_type": "code",
   "execution_count": 12,
   "metadata": {},
   "outputs": [
    {
     "name": "stdout",
     "output_type": "stream",
     "text": [
      "Classification Report:\n",
      "[[318  40]\n",
      " [ 66 113]]\n",
      "              precision    recall  f1-score   support\n",
      "\n",
      "     Healthy       0.83      0.89      0.86       358\n",
      "        Sick       0.74      0.63      0.68       179\n",
      "\n",
      "    accuracy                           0.80       537\n",
      "   macro avg       0.78      0.76      0.77       537\n",
      "weighted avg       0.80      0.80      0.80       537\n",
      "\n"
     ]
    }
   ],
   "source": [
    "print('Classification Report:')\n",
    "print(confusion_matrix(y_train,predict_train))\n",
    "print(classification_report(y_train,predict_train, target_names=class_names))"
   ]
  },
  {
   "cell_type": "code",
   "execution_count": null,
   "metadata": {},
   "outputs": [],
   "source": []
  }
 ],
 "metadata": {
  "kernelspec": {
   "display_name": "Python 3",
   "language": "python",
   "name": "python3"
  },
  "language_info": {
   "codemirror_mode": {
    "name": "ipython",
    "version": 3
   },
   "file_extension": ".py",
   "mimetype": "text/x-python",
   "name": "python",
   "nbconvert_exporter": "python",
   "pygments_lexer": "ipython3",
   "version": "3.7.4"
  }
 },
 "nbformat": 4,
 "nbformat_minor": 2
}
