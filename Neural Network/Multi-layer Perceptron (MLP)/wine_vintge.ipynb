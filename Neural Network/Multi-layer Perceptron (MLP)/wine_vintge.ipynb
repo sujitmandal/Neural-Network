{
 "cells": [
  {
   "cell_type": "code",
   "execution_count": 1,
   "metadata": {},
   "outputs": [],
   "source": [
    "# Import required libraries\n",
    "import sklearn\n",
    "import numpy as np\n",
    "import pandas as pd\n",
    "import matplotlib.pyplot as plt\n",
    "from sklearn.metrics import accuracy_score\n",
    "from sklearn.metrics import confusion_matrix\n",
    "from sklearn.neural_network import MLPClassifier \n",
    "from sklearn.metrics import classification_report\n",
    "from sklearn.metrics import plot_confusion_matrix\n",
    "from sklearn.model_selection import train_test_split"
   ]
  },
  {
   "cell_type": "code",
   "execution_count": 2,
   "metadata": {},
   "outputs": [
    {
     "data": {
      "text/plain": [
       "'\\nGithub: https://github.com/sujitmandal\\nThis programe is create by Sujit Mandal\\n\\nLinkedIn : https://www.linkedin.com/in/sujit-mandal-91215013a/\\n\\nFacebook : https://www.facebook.com/sujit.mandal.33671748\\n\\nTwitter : https://twitter.com/mandalsujit37\\n'"
      ]
     },
     "execution_count": 2,
     "metadata": {},
     "output_type": "execute_result"
    }
   ],
   "source": [
    "#Github: https://github.com/sujitmandal\n",
    "\n",
    "#This programe is create by Sujit Mandal\n",
    "\n",
    "\"\"\"\n",
    "Github: https://github.com/sujitmandal\n",
    "This programe is create by Sujit Mandal\n",
    "\n",
    "LinkedIn : https://www.linkedin.com/in/sujit-mandal-91215013a/\n",
    "\n",
    "Facebook : https://www.facebook.com/sujit.mandal.33671748\n",
    "\n",
    "Twitter : https://twitter.com/mandalsujit37\n",
    "\"\"\""
   ]
  },
  {
   "cell_type": "code",
   "execution_count": 3,
   "metadata": {},
   "outputs": [
    {
     "name": "stdout",
     "output_type": "stream",
     "text": [
      "   Alcohol  Malic acid   Ash  Alcalinity of ash  Magnesium  Total phenols  \\\n",
      "0    14.23        1.71  2.43               15.6        127           2.80   \n",
      "1    13.20        1.78  2.14               11.2        100           2.65   \n",
      "2    13.16        2.36  2.67               18.6        101           2.80   \n",
      "3    14.37        1.95  2.50               16.8        113           3.85   \n",
      "4    13.24        2.59  2.87               21.0        118           2.80   \n",
      "\n",
      "   Flavanoids  Nonflavanoid phenols   Proanthocyanins  Color intensity   Hue  \\\n",
      "0        3.06                  0.28              2.29             5.64  1.04   \n",
      "1        2.76                  0.26              1.28             4.38  1.05   \n",
      "2        3.24                  0.30              2.81             5.68  1.03   \n",
      "3        3.49                  0.24              2.18             7.80  0.86   \n",
      "4        2.69                  0.39              1.82             4.32  1.04   \n",
      "\n",
      "   OD280/OD315 of diluted wines  Proline  variety  \n",
      "0                          3.92     1065        0  \n",
      "1                          3.40     1050        0  \n",
      "2                          3.17     1185        0  \n",
      "3                          3.45     1480        0  \n",
      "4                          2.93      735        0  \n",
      "\n",
      "\n",
      "     Alcohol  Malic acid   Ash  Alcalinity of ash  Magnesium  Total phenols  \\\n",
      "173    13.71        5.65  2.45               20.5         95           1.68   \n",
      "174    13.40        3.91  2.48               23.0        102           1.80   \n",
      "175    13.27        4.28  2.26               20.0        120           1.59   \n",
      "176    13.17        2.59  2.37               20.0        120           1.65   \n",
      "177    14.13        4.10  2.74               24.5         96           2.05   \n",
      "\n",
      "     Flavanoids  Nonflavanoid phenols   Proanthocyanins  Color intensity  \\\n",
      "173        0.61                  0.52              1.06              7.7   \n",
      "174        0.75                  0.43              1.41              7.3   \n",
      "175        0.69                  0.43              1.35             10.2   \n",
      "176        0.68                  0.53              1.46              9.3   \n",
      "177        0.76                  0.56              1.35              9.2   \n",
      "\n",
      "      Hue  OD280/OD315 of diluted wines  Proline  variety  \n",
      "173  0.64                          1.74      740        2  \n",
      "174  0.70                          1.56      750        2  \n",
      "175  0.59                          1.56      835        2  \n",
      "176  0.60                          1.62      840        2  \n",
      "177  0.61                          1.60      560        2  \n",
      "\n",
      "\n",
      "(178, 14)\n"
     ]
    }
   ],
   "source": [
    "data = pd.read_csv('wine vintge.csv')\n",
    "print(data.head(5))\n",
    "print('\\n')\n",
    "print(data.tail(5))\n",
    "print('\\n')\n",
    "print(data.shape)"
   ]
  },
  {
   "cell_type": "code",
   "execution_count": 4,
   "metadata": {},
   "outputs": [],
   "source": [
    "class_names = ['Vinyard #1' , 'Vinyard #2', 'Vinyard #3']"
   ]
  },
  {
   "cell_type": "code",
   "execution_count": 5,
   "metadata": {},
   "outputs": [
    {
     "name": "stdout",
     "output_type": "stream",
     "text": [
      "                              count        mean         std     min       25%  \\\n",
      "Alcohol                       178.0   13.000618    0.811827   11.03   12.3625   \n",
      "Malic acid                    178.0    2.336348    1.117146    0.74    1.6025   \n",
      "Ash                           178.0    2.366517    0.274344    1.36    2.2100   \n",
      "Alcalinity of ash             178.0   19.494944    3.339564   10.60   17.2000   \n",
      "Magnesium                     178.0   99.741573   14.282484   70.00   88.0000   \n",
      "Total phenols                 178.0    2.295112    0.625851    0.98    1.7425   \n",
      "Flavanoids                    178.0    2.029270    0.998859    0.34    1.2050   \n",
      "Nonflavanoid phenols          178.0    0.361854    0.124453    0.13    0.2700   \n",
      " Proanthocyanins              178.0    1.590899    0.572359    0.41    1.2500   \n",
      "Color intensity               178.0    5.058090    2.318286    1.28    3.2200   \n",
      "Hue                           178.0    0.957449    0.228572    0.48    0.7825   \n",
      "OD280/OD315 of diluted wines  178.0    2.611685    0.709990    1.27    1.9375   \n",
      "Proline                       178.0  746.893258  314.907474  278.00  500.5000   \n",
      "variety                       178.0    0.938202    0.775035    0.00    0.0000   \n",
      "\n",
      "                                  50%       75%      max  \n",
      "Alcohol                        13.050   13.6775    14.83  \n",
      "Malic acid                      1.865    3.0825     5.80  \n",
      "Ash                             2.360    2.5575     3.23  \n",
      "Alcalinity of ash              19.500   21.5000    30.00  \n",
      "Magnesium                      98.000  107.0000   162.00  \n",
      "Total phenols                   2.355    2.8000     3.88  \n",
      "Flavanoids                      2.135    2.8750     5.08  \n",
      "Nonflavanoid phenols            0.340    0.4375     0.66  \n",
      " Proanthocyanins                1.555    1.9500     3.58  \n",
      "Color intensity                 4.690    6.2000    13.00  \n",
      "Hue                             0.965    1.1200     1.71  \n",
      "OD280/OD315 of diluted wines    2.780    3.1700     4.00  \n",
      "Proline                       673.500  985.0000  1680.00  \n",
      "variety                         1.000    2.0000     2.00  \n"
     ]
    }
   ],
   "source": [
    "transpose = data.describe().transpose()\n",
    "print(transpose)"
   ]
  },
  {
   "cell_type": "code",
   "execution_count": 6,
   "metadata": {},
   "outputs": [
    {
     "name": "stdout",
     "output_type": "stream",
     "text": [
      "                              count      mean       std       min       25%  \\\n",
      "Alcohol                       178.0  0.876643  0.054742  0.743763  0.833614   \n",
      "Malic acid                    178.0  0.402819  0.192611  0.127586  0.276293   \n",
      "Ash                           178.0  0.732668  0.084936  0.421053  0.684211   \n",
      "Alcalinity of ash             178.0  0.649831  0.111319  0.353333  0.573333   \n",
      "Magnesium                     178.0  0.615689  0.088163  0.432099  0.543210   \n",
      "Total phenols                 178.0  0.591524  0.161302  0.252577  0.449098   \n",
      "Flavanoids                    178.0  0.399463  0.196626  0.066929  0.237205   \n",
      "Nonflavanoid phenols          178.0  0.548264  0.188566  0.196970  0.409091   \n",
      " Proanthocyanins              178.0  0.444385  0.159877  0.114525  0.349162   \n",
      "Color intensity               178.0  0.389084  0.178330  0.098462  0.247692   \n",
      "Hue                           178.0  0.559912  0.133668  0.280702  0.457602   \n",
      "OD280/OD315 of diluted wines  178.0  0.652921  0.177498  0.317500  0.484375   \n",
      "Proline                       178.0  0.444579  0.187445  0.165476  0.297917   \n",
      "variety                       178.0  0.938202  0.775035  0.000000  0.000000   \n",
      "\n",
      "                                   50%       75%  max  \n",
      "Alcohol                       0.879973  0.922286  1.0  \n",
      "Malic acid                    0.321552  0.531466  1.0  \n",
      "Ash                           0.730650  0.791796  1.0  \n",
      "Alcalinity of ash             0.650000  0.716667  1.0  \n",
      "Magnesium                     0.604938  0.660494  1.0  \n",
      "Total phenols                 0.606959  0.721649  1.0  \n",
      "Flavanoids                    0.420276  0.565945  1.0  \n",
      "Nonflavanoid phenols          0.515152  0.662879  1.0  \n",
      " Proanthocyanins              0.434358  0.544693  1.0  \n",
      "Color intensity               0.360769  0.476923  1.0  \n",
      "Hue                           0.564327  0.654971  1.0  \n",
      "OD280/OD315 of diluted wines  0.695000  0.792500  1.0  \n",
      "Proline                       0.400893  0.586310  1.0  \n",
      "variety                       1.000000  2.000000  2.0  \n"
     ]
    }
   ],
   "source": [
    "target_column = ['variety']\n",
    "predictors = list(set(list(data.columns)) - set(target_column)) \n",
    "data[predictors] = data[predictors] / data[predictors].max()\n",
    "predictors_transpose = data.describe().transpose()\n",
    "print(predictors_transpose)"
   ]
  },
  {
   "cell_type": "code",
   "execution_count": 7,
   "metadata": {},
   "outputs": [
    {
     "name": "stdout",
     "output_type": "stream",
     "text": [
      "(124, 13)\n",
      "(54, 13)\n"
     ]
    }
   ],
   "source": [
    "#Creating the Training and Test Datasets\n",
    "\n",
    "x = data[predictors].values\n",
    "y = data[target_column].values\n",
    "\n",
    "x_train, x_test, y_train, y_test = train_test_split(x, y, test_size=0.30, random_state=40)\n",
    "\n",
    "print(x_train.shape)\n",
    "print(x_test.shape)"
   ]
  },
  {
   "cell_type": "code",
   "execution_count": 8,
   "metadata": {},
   "outputs": [
    {
     "name": "stderr",
     "output_type": "stream",
     "text": [
      "/home/sujit/anaconda3/lib/python3.7/site-packages/sklearn/neural_network/_multilayer_perceptron.py:934: DataConversionWarning: A column-vector y was passed when a 1d array was expected. Please change the shape of y to (n_samples, ), for example using ravel().\n",
      "  y = column_or_1d(y, warn=True)\n",
      "/home/sujit/anaconda3/lib/python3.7/site-packages/sklearn/neural_network/_multilayer_perceptron.py:571: ConvergenceWarning: Stochastic Optimizer: Maximum iterations (500) reached and the optimization hasn't converged yet.\n",
      "  % self.max_iter, ConvergenceWarning)\n"
     ]
    }
   ],
   "source": [
    "#Building, Predicting, and Evaluating the Neural Network Model\n",
    "\n",
    "mlp = MLPClassifier(hidden_layer_sizes=(10,10,10), activation = 'relu', solver ='adam', max_iter = 500)\n",
    "mlp.fit(x_train, y_train)\n",
    "\n",
    "predict_train = mlp.predict(x_train)\n",
    "predict_test = mlp.predict(x_test)"
   ]
  },
  {
   "cell_type": "code",
   "execution_count": 9,
   "metadata": {},
   "outputs": [
    {
     "name": "stdout",
     "output_type": "stream",
     "text": [
      "Accuracy : 92.5925925925926\n"
     ]
    }
   ],
   "source": [
    "predicted = mlp.predict(x_test)\n",
    "accuracy = accuracy_score(y_test, predicted)\n",
    "\n",
    "accuracyInpercentage = (accuracy * 100)\n",
    "print('Accuracy :', accuracyInpercentage)"
   ]
  },
  {
   "cell_type": "code",
   "execution_count": 10,
   "metadata": {},
   "outputs": [
    {
     "name": "stdout",
     "output_type": "stream",
     "text": [
      "\n",
      "\n",
      "Confusion matrix, without normalization\n",
      "[[14  1  0]\n",
      " [ 2 18  0]\n",
      " [ 1  0 18]]\n",
      "\n",
      "\n",
      "Normalized confusion matrix\n",
      "[[0.93333333 0.06666667 0.        ]\n",
      " [0.1        0.9        0.        ]\n",
      " [0.05263158 0.         0.94736842]]\n"
     ]
    },
    {
     "data": {
      "image/png": "[encoded data removed]",
      "text/plain": [
       "<Figure size 432x288 with 2 Axes>"
      ]
     },
     "metadata": {
      "needs_background": "light"
     },
     "output_type": "display_data"
    },
    {
     "data": {
      "image/png": "[encoded data removed]",
      "text/plain": [
       "<Figure size 432x288 with 2 Axes>"
      ]
     },
     "metadata": {
      "needs_background": "light"
     },
     "output_type": "display_data"
    }
   ],
   "source": [
    "# Plot non-normalized confusion matrix\n",
    "titles_options = [(\"Confusion matrix, without normalization\", None),\n",
    "                  (\"Normalized confusion matrix\", 'true')]\n",
    "for title, normalize in titles_options:\n",
    "    disp = plot_confusion_matrix(mlp, x_test, y_test,\n",
    "                                 display_labels=class_names,\n",
    "                                 cmap=plt.cm.Blues,\n",
    "                                 normalize=normalize)\n",
    "    disp.ax_.set_title(title)\n",
    "    print('\\n')\n",
    "    print(title)\n",
    "    print(disp.confusion_matrix)\n",
    "\n",
    "#plt.show()"
   ]
  },
  {
   "cell_type": "code",
   "execution_count": 11,
   "metadata": {},
   "outputs": [
    {
     "name": "stdout",
     "output_type": "stream",
     "text": [
      "\n",
      "\n",
      "Classification Report:\n",
      "[[44  0  0]\n",
      " [ 2 49  0]\n",
      " [ 1  0 28]]\n",
      "              precision    recall  f1-score   support\n",
      "\n",
      "  Vinyard #1       0.94      1.00      0.97        44\n",
      "  Vinyard #2       1.00      0.96      0.98        51\n",
      "  Vinyard #3       1.00      0.97      0.98        29\n",
      "\n",
      "    accuracy                           0.98       124\n",
      "   macro avg       0.98      0.98      0.98       124\n",
      "weighted avg       0.98      0.98      0.98       124\n",
      "\n"
     ]
    }
   ],
   "source": [
    "print('\\n')\n",
    "print('Classification Report:')\n",
    "print(confusion_matrix(y_train,predict_train))\n",
    "print(classification_report(y_train,predict_train, target_names=class_names))"
   ]
  },
  {
   "cell_type": "code",
   "execution_count": null,
   "metadata": {},
   "outputs": [],
   "source": []
  }
 ],
 "metadata": {
  "kernelspec": {
   "display_name": "Python 3",
   "language": "python",
   "name": "python3"
  },
  "language_info": {
   "codemirror_mode": {
    "name": "ipython",
    "version": 3
   },
   "file_extension": ".py",
   "mimetype": "text/x-python",
   "name": "python",
   "nbconvert_exporter": "python",
   "pygments_lexer": "ipython3",
   "version": "3.7.4"
  }
 },
 "nbformat": 4,
 "nbformat_minor": 2
}
