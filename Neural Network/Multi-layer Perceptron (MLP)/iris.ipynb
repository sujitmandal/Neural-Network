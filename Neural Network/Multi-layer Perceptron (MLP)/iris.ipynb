{
 "cells": [
  {
   "cell_type": "code",
   "execution_count": 1,
   "metadata": {},
   "outputs": [],
   "source": [
    "# Import required libraries\n",
    "import sklearn\n",
    "import numpy as np\n",
    "import pandas as pd\n",
    "import matplotlib.pyplot as plt\n",
    "from sklearn.metrics import accuracy_score\n",
    "from sklearn.metrics import confusion_matrix\n",
    "from sklearn.neural_network import MLPClassifier \n",
    "from sklearn.metrics import classification_report\n",
    "from sklearn.metrics import plot_confusion_matrix\n",
    "from sklearn.model_selection import train_test_split"
   ]
  },
  {
   "cell_type": "code",
   "execution_count": 18,
   "metadata": {},
   "outputs": [
    {
     "data": {
      "text/plain": [
       "'\\nGithub: https://github.com/sujitmandal\\nThis programe is create by Sujit Mandal\\n\\nLinkedIn : https://www.linkedin.com/in/sujit-mandal-91215013a/\\n\\nFacebook : https://www.facebook.com/sujit.mandal.33671748\\n\\nTwitter : https://twitter.com/mandalsujit37\\n'"
      ]
     },
     "execution_count": 18,
     "metadata": {},
     "output_type": "execute_result"
    }
   ],
   "source": [
    "#Github: https://github.com/sujitmandal\n",
    "\n",
    "#This programe is create by Sujit Mandal\n",
    "\n",
    "\"\"\"\n",
    "Github: https://github.com/sujitmandal\n",
    "This programe is create by Sujit Mandal\n",
    "\n",
    "LinkedIn : https://www.linkedin.com/in/sujit-mandal-91215013a/\n",
    "\n",
    "Facebook : https://www.facebook.com/sujit.mandal.33671748\n",
    "\n",
    "Twitter : https://twitter.com/mandalsujit37\n",
    "\"\"\""
   ]
  },
  {
   "cell_type": "code",
   "execution_count": 3,
   "metadata": {},
   "outputs": [
    {
     "name": "stdout",
     "output_type": "stream",
     "text": [
      "   sepal.length  sepal.width  petal.length  petal.width  variety\n",
      "0           5.1          3.5           1.4          0.2        0\n",
      "1           4.9          3.0           1.4          0.2        0\n",
      "2           4.7          3.2           1.3          0.2        0\n",
      "3           4.6          3.1           1.5          0.2        0\n",
      "4           5.0          3.6           1.4          0.2        0\n",
      "\n",
      "\n",
      "     sepal.length  sepal.width  petal.length  petal.width  variety\n",
      "145           6.7          3.0           5.2          2.3        2\n",
      "146           6.3          2.5           5.0          1.9        2\n",
      "147           6.5          3.0           5.2          2.0        2\n",
      "148           6.2          3.4           5.4          2.3        2\n",
      "149           5.9          3.0           5.1          1.8        2\n",
      "\n",
      "\n",
      "(150, 5)\n"
     ]
    }
   ],
   "source": [
    "data = pd.read_csv('iris.csv')\n",
    "print(data.head(5))\n",
    "print('\\n')\n",
    "print(data.tail(5))\n",
    "print('\\n')\n",
    "print(data.shape)"
   ]
  },
  {
   "cell_type": "code",
   "execution_count": 4,
   "metadata": {},
   "outputs": [],
   "source": [
    "class_names = ['Setosa', 'Versicolor', 'Virginica']"
   ]
  },
  {
   "cell_type": "code",
   "execution_count": 5,
   "metadata": {},
   "outputs": [
    {
     "name": "stdout",
     "output_type": "stream",
     "text": [
      "              count      mean       std  min  25%   50%  75%  max\n",
      "sepal.length  150.0  5.843333  0.828066  4.3  5.1  5.80  6.4  7.9\n",
      "sepal.width   150.0  3.057333  0.435866  2.0  2.8  3.00  3.3  4.4\n",
      "petal.length  150.0  3.758000  1.765298  1.0  1.6  4.35  5.1  6.9\n",
      "petal.width   150.0  1.199333  0.762238  0.1  0.3  1.30  1.8  2.5\n",
      "variety       150.0  1.000000  0.819232  0.0  0.0  1.00  2.0  2.0\n"
     ]
    }
   ],
   "source": [
    "transpose = data.describe().transpose()\n",
    "print(transpose)"
   ]
  },
  {
   "cell_type": "code",
   "execution_count": 6,
   "metadata": {},
   "outputs": [
    {
     "name": "stdout",
     "output_type": "stream",
     "text": [
      "              count      mean       std       min       25%       50%  \\\n",
      "sepal.length  150.0  0.739662  0.104818  0.544304  0.645570  0.734177   \n",
      "sepal.width   150.0  0.694848  0.099061  0.454545  0.636364  0.681818   \n",
      "petal.length  150.0  0.544638  0.255840  0.144928  0.231884  0.630435   \n",
      "petal.width   150.0  0.479733  0.304895  0.040000  0.120000  0.520000   \n",
      "variety       150.0  1.000000  0.819232  0.000000  0.000000  1.000000   \n",
      "\n",
      "                   75%  max  \n",
      "sepal.length  0.810127  1.0  \n",
      "sepal.width   0.750000  1.0  \n",
      "petal.length  0.739130  1.0  \n",
      "petal.width   0.720000  1.0  \n",
      "variety       2.000000  2.0  \n"
     ]
    }
   ],
   "source": [
    "target_column = ['variety']\n",
    "predictors = list(set(list(data.columns)) - set(target_column)) \n",
    "data[predictors] = data[predictors] / data[predictors].max()\n",
    "predictors_transpose = data.describe().transpose()\n",
    "print(predictors_transpose)"
   ]
  },
  {
   "cell_type": "code",
   "execution_count": 7,
   "metadata": {},
   "outputs": [
    {
     "name": "stdout",
     "output_type": "stream",
     "text": [
      "(105, 4)\n",
      "(45, 4)\n"
     ]
    }
   ],
   "source": [
    "#Creating the Training and Test Datasets\n",
    "\n",
    "x = data[predictors].values\n",
    "y = data[target_column].values\n",
    "\n",
    "x_train, x_test, y_train, y_test = train_test_split(x, y, test_size=0.30, random_state=40)\n",
    "\n",
    "print(x_train.shape)\n",
    "print(x_test.shape)"
   ]
  },
  {
   "cell_type": "code",
   "execution_count": 8,
   "metadata": {},
   "outputs": [
    {
     "name": "stderr",
     "output_type": "stream",
     "text": [
      "/home/sujit/anaconda3/lib/python3.7/site-packages/sklearn/neural_network/_multilayer_perceptron.py:934: DataConversionWarning: A column-vector y was passed when a 1d array was expected. Please change the shape of y to (n_samples, ), for example using ravel().\n",
      "  y = column_or_1d(y, warn=True)\n",
      "/home/sujit/anaconda3/lib/python3.7/site-packages/sklearn/neural_network/_multilayer_perceptron.py:571: ConvergenceWarning: Stochastic Optimizer: Maximum iterations (500) reached and the optimization hasn't converged yet.\n",
      "  % self.max_iter, ConvergenceWarning)\n"
     ]
    }
   ],
   "source": [
    "#Building, Predicting, and Evaluating the Neural Network Model\n",
    "\n",
    "mlp = MLPClassifier(hidden_layer_sizes=(10,10,10), activation = 'relu', solver ='adam', max_iter = 500)\n",
    "mlp.fit(x_train, y_train)\n",
    "\n",
    "predict_train = mlp.predict(x_train)\n",
    "predict_test = mlp.predict(x_test)"
   ]
  },
  {
   "cell_type": "code",
   "execution_count": 17,
   "metadata": {},
   "outputs": [
    {
     "name": "stdout",
     "output_type": "stream",
     "text": [
      "Accuracy : 97.77777777777777\n"
     ]
    }
   ],
   "source": [
    "predicted = mlp.predict(x_test)\n",
    "accuracy = accuracy_score(y_test, predicted)\n",
    "\n",
    "accuracyInpercentage = (accuracy * 100)\n",
    "print('Accuracy :', accuracyInpercentage)"
   ]
  },
  {
   "cell_type": "code",
   "execution_count": 11,
   "metadata": {},
   "outputs": [
    {
     "name": "stdout",
     "output_type": "stream",
     "text": [
      "\n",
      "\n",
      "Confusion matrix, without normalization\n",
      "[[16  0  0]\n",
      " [ 0 13  1]\n",
      " [ 0  0 15]]\n",
      "\n",
      "\n",
      "Normalized confusion matrix\n",
      "[[1.         0.         0.        ]\n",
      " [0.         0.92857143 0.07142857]\n",
      " [0.         0.         1.        ]]\n"
     ]
    },
    {
     "data": {
      "image/png": "[encoded data removed]",
      "text/plain": [
       "<Figure size 432x288 with 2 Axes>"
      ]
     },
     "metadata": {
      "needs_background": "light"
     },
     "output_type": "display_data"
    },
    {
     "data": {
      "image/png": "[encoded data removed]",
      "text/plain": [
       "<Figure size 432x288 with 2 Axes>"
      ]
     },
     "metadata": {
      "needs_background": "light"
     },
     "output_type": "display_data"
    }
   ],
   "source": [
    "# Plot non-normalized confusion matrix\n",
    "titles_options = [(\"Confusion matrix, without normalization\", None),\n",
    "                  (\"Normalized confusion matrix\", 'true')]\n",
    "for title, normalize in titles_options:\n",
    "    disp = plot_confusion_matrix(mlp, x_test, y_test,\n",
    "                                 display_labels=class_names,\n",
    "                                 cmap=plt.cm.Blues,\n",
    "                                 normalize=normalize)\n",
    "    disp.ax_.set_title(title)\n",
    "    print('\\n')\n",
    "    print(title)\n",
    "    print(disp.confusion_matrix)\n",
    "\n",
    "#plt.show()"
   ]
  },
  {
   "cell_type": "code",
   "execution_count": 12,
   "metadata": {},
   "outputs": [
    {
     "name": "stdout",
     "output_type": "stream",
     "text": [
      "\n",
      "\n",
      "Classification Report:\n",
      "[[34  0  0]\n",
      " [ 0 34  2]\n",
      " [ 0  1 34]]\n",
      "              precision    recall  f1-score   support\n",
      "\n",
      "           0       1.00      1.00      1.00        34\n",
      "           1       0.97      0.94      0.96        36\n",
      "           2       0.94      0.97      0.96        35\n",
      "\n",
      "    accuracy                           0.97       105\n",
      "   macro avg       0.97      0.97      0.97       105\n",
      "weighted avg       0.97      0.97      0.97       105\n",
      "\n"
     ]
    }
   ],
   "source": [
    "print('\\n')\n",
    "print('Classification Report:')\n",
    "print(confusion_matrix(y_train,predict_train))\n",
    "print(classification_report(y_train,predict_train))"
   ]
  },
  {
   "cell_type": "code",
   "execution_count": null,
   "metadata": {},
   "outputs": [],
   "source": []
  }
 ],
 "metadata": {
  "kernelspec": {
   "display_name": "Python 3",
   "language": "python",
   "name": "python3"
  },
  "language_info": {
   "codemirror_mode": {
    "name": "ipython",
    "version": 3
   },
   "file_extension": ".py",
   "mimetype": "text/x-python",
   "name": "python",
   "nbconvert_exporter": "python",
   "pygments_lexer": "ipython3",
   "version": "3.7.4"
  }
 },
 "nbformat": 4,
 "nbformat_minor": 2
}
